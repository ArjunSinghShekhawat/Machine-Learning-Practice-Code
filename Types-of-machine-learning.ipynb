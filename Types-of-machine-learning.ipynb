{
 "cells": [
  {
   "cell_type": "code",
   "execution_count": 1,
   "id": "b2f0be04-55f4-46ed-ad69-39424b8d2003",
   "metadata": {},
   "outputs": [],
   "source": [
    "#Types of machine learning."
   ]
  },
  {
   "cell_type": "code",
   "execution_count": null,
   "id": "a2086851-eb5c-4ceb-ab93-95062b4d0090",
   "metadata": {},
   "outputs": [],
   "source": [
    "\"\"\"\n",
    "There are  4 types of machine learning.\n",
    "1.Supervised machine learning\n",
    "2.Un-Supervised machine learning\n",
    "3.Semi-Supervised machine learning\n",
    "4.Reinforcement machine learning\n",
    "\n",
    "1.Supervised machine learning - In supervused machine learning output and present and depend on the input data.\n",
    "\n",
    "There are divided in two category.\n",
    "\n",
    "                            a. Classification\n",
    "                            b. Regression\n",
    "                            \n",
    "a.Classification - In classification the output feature will be categorical data.\n",
    "Example - student result prediction\n",
    "\n",
    "b.Regression - In regression the output feature will be continueus data.\n",
    "Example - house price prediction.\n",
    "\n",
    "2.Un-Supervised machine learning - In un-supervised machine learning is not present output feature . In this machine learning\n",
    "make the multiple cluster of similar data and then according to cluster of data make best decision in business.\n",
    "\n",
    "cluster - Group of similar data.\n",
    "\n",
    "Example - mall - wateches \n",
    "          given a discount coupon.\n",
    "\n",
    "3.Semi-Supervised machine learning - The combination of supervised and un-supervised machine learning.\n",
    "\n",
    "4.Re-inforcement learning - In this machine learning data learning itself.\n",
    "\n",
    "Example - child learn all nature according to environment.\n",
    "\n",
    "\n",
    "\"\"\""
   ]
  }
 ],
 "metadata": {
  "kernelspec": {
   "display_name": "Python 3 (ipykernel)",
   "language": "python",
   "name": "python3"
  },
  "language_info": {
   "codemirror_mode": {
    "name": "ipython",
    "version": 3
   },
   "file_extension": ".py",
   "mimetype": "text/x-python",
   "name": "python",
   "nbconvert_exporter": "python",
   "pygments_lexer": "ipython3",
   "version": "3.10.8"
  }
 },
 "nbformat": 4,
 "nbformat_minor": 5
}
