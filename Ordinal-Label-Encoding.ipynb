{
 "cells": [
  {
   "cell_type": "code",
   "execution_count": 1,
   "id": "d7df16bb-d41c-4e7c-a799-3bb68cf4f607",
   "metadata": {},
   "outputs": [],
   "source": [
    "#Label and Ordinal Encoding"
   ]
  },
  {
   "cell_type": "code",
   "execution_count": 2,
   "id": "a1be700f-6ef9-40a0-b55b-d977fb691ab9",
   "metadata": {},
   "outputs": [],
   "source": [
    "import pandas as pd"
   ]
  },
  {
   "cell_type": "code",
   "execution_count": 3,
   "id": "bbaf113d-06f9-48bb-a7b5-79fa784c8f3c",
   "metadata": {},
   "outputs": [],
   "source": [
    "df = pd.DataFrame({\"color\":['red','blue','pink','blue','red','pink','pink']})"
   ]
  },
  {
   "cell_type": "code",
   "execution_count": 9,
   "id": "3a578fa9-8b3a-467b-a1ff-77c022ff2a36",
   "metadata": {},
   "outputs": [],
   "source": [
    "from sklearn.preprocessing import LabelEncoder,OrdinalEncoder"
   ]
  },
  {
   "cell_type": "code",
   "execution_count": 5,
   "id": "e6a5f0ab-3073-44d9-8389-fc733416df23",
   "metadata": {},
   "outputs": [],
   "source": [
    "label = LabelEncoder()"
   ]
  },
  {
   "cell_type": "code",
   "execution_count": 7,
   "id": "c42d12f3-e539-4e67-9a11-696a3dfd888a",
   "metadata": {},
   "outputs": [
    {
     "data": {
      "text/plain": [
       "array([2, 0, 1, 0, 2, 1, 1])"
      ]
     },
     "execution_count": 7,
     "metadata": {},
     "output_type": "execute_result"
    }
   ],
   "source": [
    "label.fit_transform(df['color'])#order is not matter and not"
   ]
  },
  {
   "cell_type": "code",
   "execution_count": 8,
   "id": "7cc85d85-47ae-40e3-9071-bb5a0e3d1344",
   "metadata": {},
   "outputs": [],
   "source": [
    "#Rank wise encoding"
   ]
  },
  {
   "cell_type": "code",
   "execution_count": 10,
   "id": "11669e34-6c3f-4315-91fd-6c4d73386f94",
   "metadata": {},
   "outputs": [],
   "source": [
    "order = OrdinalEncoder()"
   ]
  },
  {
   "cell_type": "code",
   "execution_count": 11,
   "id": "129a8e8e-753c-41f8-afb0-40b6638874c2",
   "metadata": {},
   "outputs": [],
   "source": [
    "df = pd.DataFrame({'size':['low','mediam','high','high','low','mediam']})"
   ]
  },
  {
   "cell_type": "code",
   "execution_count": 15,
   "id": "4f9887b8-d230-403b-a14d-437e04f624d3",
   "metadata": {},
   "outputs": [],
   "source": [
    "info = OrdinalEncoder(categories=[['low','mediam','high']])"
   ]
  },
  {
   "cell_type": "code",
   "execution_count": 16,
   "id": "dc8a51c1-c1b6-4ec3-bb30-95aaa06b1010",
   "metadata": {},
   "outputs": [
    {
     "data": {
      "text/plain": [
       "array([[0.],\n",
       "       [1.],\n",
       "       [2.],\n",
       "       [2.],\n",
       "       [0.],\n",
       "       [1.]])"
      ]
     },
     "execution_count": 16,
     "metadata": {},
     "output_type": "execute_result"
    }
   ],
   "source": [
    "info.fit_transform(df[['size']])"
   ]
  },
  {
   "cell_type": "code",
   "execution_count": null,
   "id": "987979c8-68a8-431e-96b8-19e223f3472e",
   "metadata": {},
   "outputs": [],
   "source": []
  }
 ],
 "metadata": {
  "kernelspec": {
   "display_name": "Python 3 (ipykernel)",
   "language": "python",
   "name": "python3"
  },
  "language_info": {
   "codemirror_mode": {
    "name": "ipython",
    "version": 3
   },
   "file_extension": ".py",
   "mimetype": "text/x-python",
   "name": "python",
   "nbconvert_exporter": "python",
   "pygments_lexer": "ipython3",
   "version": "3.10.8"
  }
 },
 "nbformat": 4,
 "nbformat_minor": 5
}
