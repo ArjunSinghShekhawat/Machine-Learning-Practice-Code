{
 "cells": [
  {
   "cell_type": "code",
   "execution_count": 1,
   "id": "3295e291-3246-4128-844f-473a18bc700a",
   "metadata": {},
   "outputs": [],
   "source": [
    "#DataSet in machine learning."
   ]
  },
  {
   "cell_type": "code",
   "execution_count": null,
   "id": "b683ea28-f990-401f-b998-5b79743f15f4",
   "metadata": {},
   "outputs": [],
   "source": [
    "\"\"\"\n",
    "There are three types of dataset available in machine learning.\n",
    "\n",
    "1.Train DataSet\n",
    "2.validation DataSet\n",
    "3.Test DataSet\n",
    "\n",
    "1.Train DataSet - We will Train our model.\n",
    "\n",
    "Example - Student study by the books so books to train the student then books is train dataset.\n",
    "\n",
    "2.Validation Dataset - Hyper Tuning of the model.\n",
    "\n",
    "Example - Student Study by books but achieve high marks in exam so student learn all other multiple books then achieve high marks\n",
    "in school so that the other books increase the student marks so this dataset is called validation dataset.\n",
    "\n",
    "3.Test Dataset - Model will be test.\n",
    "\n",
    "Example - Student achieve 85% marks then all study is check in exam and then result is 85% then test the all dataset.\n",
    "\n",
    "\"\"\""
   ]
  }
 ],
 "metadata": {
  "kernelspec": {
   "display_name": "Python 3 (ipykernel)",
   "language": "python",
   "name": "python3"
  },
  "language_info": {
   "codemirror_mode": {
    "name": "ipython",
    "version": 3
   },
   "file_extension": ".py",
   "mimetype": "text/x-python",
   "name": "python",
   "nbconvert_exporter": "python",
   "pygments_lexer": "ipython3",
   "version": "3.10.8"
  }
 },
 "nbformat": 4,
 "nbformat_minor": 5
}
