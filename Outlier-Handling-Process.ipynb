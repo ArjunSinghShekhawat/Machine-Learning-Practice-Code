{
 "cells": [
  {
   "cell_type": "code",
   "execution_count": 1,
   "id": "ee147bba-a9e1-4437-bcc4-3895aaa0bb3d",
   "metadata": {},
   "outputs": [],
   "source": [
    "#Handling Outliers"
   ]
  },
  {
   "cell_type": "code",
   "execution_count": 2,
   "id": "a2db3108-0126-4a85-a235-bef511ccabcd",
   "metadata": {},
   "outputs": [
    {
     "data": {
      "text/plain": [
       "'\\nFive number summery-:\\n\\n1.Minimum value\\n2.Q1 -> 25%\\n3.median\\n4.Q3 -> 75%\\n5.Maximum\\n\\n'"
      ]
     },
     "execution_count": 2,
     "metadata": {},
     "output_type": "execute_result"
    }
   ],
   "source": [
    "\"\"\"\n",
    "Five number summery-:\n",
    "\n",
    "1.Minimum value\n",
    "2.Q1 -> 25%\n",
    "3.median\n",
    "4.Q3 -> 75%\n",
    "5.Maximum\n",
    "\n",
    "\"\"\""
   ]
  },
  {
   "cell_type": "code",
   "execution_count": 3,
   "id": "aec47687-f648-4b11-aa6e-b66babc274b3",
   "metadata": {},
   "outputs": [],
   "source": [
    "import numpy as np"
   ]
  },
  {
   "cell_type": "code",
   "execution_count": 22,
   "id": "239a4264-da40-4d71-934e-9f3a48f6216b",
   "metadata": {},
   "outputs": [],
   "source": [
    "student_marks = [55,78,57,96,58,54,75,89,75,66,53,1000,1100]"
   ]
  },
  {
   "cell_type": "code",
   "execution_count": 23,
   "id": "5de709de-5a94-41fe-9977-5316ea3808d4",
   "metadata": {},
   "outputs": [
    {
     "data": {
      "text/plain": [
       "array([57.])"
      ]
     },
     "execution_count": 23,
     "metadata": {},
     "output_type": "execute_result"
    }
   ],
   "source": [
    "np.percentile(student_marks,[25])"
   ]
  },
  {
   "cell_type": "code",
   "execution_count": 24,
   "id": "13423687-eeb7-40a5-b4f3-7d84b568a763",
   "metadata": {},
   "outputs": [],
   "source": [
    "minimum,Q1,median,Q3,maximum = np.quantile(student_marks,[0,0.25,0.50,0.75,1.0])"
   ]
  },
  {
   "cell_type": "code",
   "execution_count": 25,
   "id": "b32895b3-fb01-4e92-a30e-2191b37e9d6b",
   "metadata": {},
   "outputs": [],
   "source": [
    "IQR = Q3-Q1"
   ]
  },
  {
   "cell_type": "code",
   "execution_count": 26,
   "id": "d274409e-1b3d-492e-8ca4-097fc90fe5ce",
   "metadata": {},
   "outputs": [],
   "source": [
    "lower_ference = Q1-1.5*(IQR)"
   ]
  },
  {
   "cell_type": "code",
   "execution_count": 27,
   "id": "c2f805d1-8821-4e73-a679-661dc5177ec1",
   "metadata": {},
   "outputs": [],
   "source": [
    "higher_ference = Q3+1.5*(IQR)"
   ]
  },
  {
   "cell_type": "code",
   "execution_count": 28,
   "id": "446da996-79fa-4d14-a4de-3a1640938634",
   "metadata": {},
   "outputs": [
    {
     "data": {
      "text/plain": [
       "9.0"
      ]
     },
     "execution_count": 28,
     "metadata": {},
     "output_type": "execute_result"
    }
   ],
   "source": [
    "lower_ference"
   ]
  },
  {
   "cell_type": "code",
   "execution_count": 29,
   "id": "708c00a4-2b71-45c5-ad3c-a596d60dffb6",
   "metadata": {},
   "outputs": [
    {
     "data": {
      "text/plain": [
       "137.0"
      ]
     },
     "execution_count": 29,
     "metadata": {},
     "output_type": "execute_result"
    }
   ],
   "source": [
    "higher_ference"
   ]
  },
  {
   "cell_type": "code",
   "execution_count": 30,
   "id": "52330156-8fb9-4f31-8467-ed5fdcb35d8b",
   "metadata": {},
   "outputs": [
    {
     "name": "stdout",
     "output_type": "stream",
     "text": [
      "No outlier\n",
      "No outlier\n",
      "No outlier\n",
      "No outlier\n",
      "No outlier\n",
      "No outlier\n",
      "No outlier\n",
      "No outlier\n",
      "No outlier\n",
      "No outlier\n",
      "No outlier\n"
     ]
    }
   ],
   "source": [
    "outlier = []\n",
    "for i in student_marks:\n",
    "    if i>=lower_ference and i<=higher_ference:\n",
    "        print(\"No outlier\")\n",
    "    else:\n",
    "        outlier.append(i)"
   ]
  },
  {
   "cell_type": "code",
   "execution_count": 31,
   "id": "aed8e108-cd54-4c1a-ba3f-d5741bd00494",
   "metadata": {},
   "outputs": [
    {
     "data": {
      "text/plain": [
       "[1000, 1100]"
      ]
     },
     "execution_count": 31,
     "metadata": {},
     "output_type": "execute_result"
    }
   ],
   "source": [
    "outlier"
   ]
  },
  {
   "cell_type": "code",
   "execution_count": 32,
   "id": "02ce3e3b-7003-4d2f-b0b4-75a8eb10a431",
   "metadata": {},
   "outputs": [],
   "source": [
    "import seaborn as sns"
   ]
  },
  {
   "cell_type": "code",
   "execution_count": 33,
   "id": "02da9b33-47b5-4293-b1f2-9983947413e9",
   "metadata": {},
   "outputs": [
    {
     "data": {
      "text/plain": [
       "<AxesSubplot: >"
      ]
     },
     "execution_count": 33,
     "metadata": {},
     "output_type": "execute_result"
    },
    {
     "data": {
      "image/png": "[encoded data removed]",
      "text/plain": [
       "<Figure size 640x480 with 1 Axes>"
      ]
     },
     "metadata": {},
     "output_type": "display_data"
    }
   ],
   "source": [
    "sns.boxplot(student_marks)"
   ]
  },
  {
   "cell_type": "code",
   "execution_count": 34,
   "id": "4bb3d670-dc5a-452d-86ca-b6d1bdc58ffb",
   "metadata": {},
   "outputs": [],
   "source": [
    "student_marks = [55,78,57,96,58,54,75,89,75,66,53]"
   ]
  },
  {
   "cell_type": "code",
   "execution_count": 35,
   "id": "1d9bf67e-bf8c-4327-8af6-29ef494a4b1d",
   "metadata": {},
   "outputs": [
    {
     "data": {
      "text/plain": [
       "<AxesSubplot: >"
      ]
     },
     "execution_count": 35,
     "metadata": {},
     "output_type": "execute_result"
    },
    {
     "data": {
      "image/png": "[encoded data removed]",
      "text/plain": [
       "<Figure size 640x480 with 1 Axes>"
      ]
     },
     "metadata": {},
     "output_type": "display_data"
    }
   ],
   "source": [
    "sns.boxplot(student_marks)"
   ]
  },
  {
   "cell_type": "code",
   "execution_count": null,
   "id": "08c9cade-9933-4ab6-bdc2-623af22d1e71",
   "metadata": {},
   "outputs": [],
   "source": []
  }
 ],
 "metadata": {
  "kernelspec": {
   "display_name": "Python 3 (ipykernel)",
   "language": "python",
   "name": "python3"
  },
  "language_info": {
   "codemirror_mode": {
    "name": "ipython",
    "version": 3
   },
   "file_extension": ".py",
   "mimetype": "text/x-python",
   "name": "python",
   "nbconvert_exporter": "python",
   "pygments_lexer": "ipython3",
   "version": "3.10.8"
  }
 },
 "nbformat": 4,
 "nbformat_minor": 5
}
