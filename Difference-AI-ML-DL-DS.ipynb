{
 "cells": [
  {
   "cell_type": "code",
   "execution_count": 2,
   "id": "b8d78d18-0e45-476b-bcb4-e1d99b609f90",
   "metadata": {},
   "outputs": [],
   "source": [
    "#Q1.Difference between AI,ML,DL and DS.\n",
    "difference = \"\"\"\n",
    "AI - AI is a smart application than can perform its own tasks without any human intervention this concept is called AI.\n",
    "Example - self driving car, alexa, robots etc.\n",
    "\n",
    "ML - ML is a sebset of AI.It provides statstool to analyzing and visualize , predictive models forcasting.\n",
    "Example - Amazon recommendation system  (any products)\n",
    "          Netflix recommendation system (any movies)\n",
    "\n",
    "DL - DL is used to mimic the human brain.\n",
    "Example - objects detection etc.\n",
    "\n",
    "DS - DS works in all category like ML,AI tools,DL.\n",
    "\n",
    "\"\"\"\n"
   ]
  },
  {
   "cell_type": "code",
   "execution_count": null,
   "id": "855ce6df-57e6-4fd0-b05c-9acf5ae66891",
   "metadata": {},
   "outputs": [],
   "source": []
  }
 ],
 "metadata": {
  "kernelspec": {
   "display_name": "Python 3 (ipykernel)",
   "language": "python",
   "name": "python3"
  },
  "language_info": {
   "codemirror_mode": {
    "name": "ipython",
    "version": 3
   },
   "file_extension": ".py",
   "mimetype": "text/x-python",
   "name": "python",
   "nbconvert_exporter": "python",
   "pygments_lexer": "ipython3",
   "version": "3.10.8"
  }
 },
 "nbformat": 4,
 "nbformat_minor": 5
}
