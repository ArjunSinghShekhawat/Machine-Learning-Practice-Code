{
 "cells": [
  {
   "cell_type": "code",
   "execution_count": 1,
   "id": "c165ff57-edc3-41d2-aa66-40c380f5d560",
   "metadata": {},
   "outputs": [],
   "source": [
    "#Data Encoding"
   ]
  },
  {
   "cell_type": "code",
   "execution_count": 2,
   "id": "fd84e8ae-4a6b-4b83-ba88-733587c0f7fd",
   "metadata": {},
   "outputs": [
    {
     "data": {
      "text/plain": [
       "'\\nData Encoding - Data Encoding is used in Categorical Data.\\n                Cetegorial Data convert In numeric Data.\\n\\nThere are 3 types of Data Encoding.\\n1.Nominal/OHE(One Hot Encoding)\\n2.Ordinal and Label Encoding\\n3.Target guided Ordinal Encoding\\n\\n'"
      ]
     },
     "execution_count": 2,
     "metadata": {},
     "output_type": "execute_result"
    }
   ],
   "source": [
    "\"\"\"\n",
    "Data Encoding - Data Encoding is used in Categorical Data.\n",
    "                Cetegorial Data convert In numeric Data.\n",
    "\n",
    "There are 3 types of Data Encoding.\n",
    "1.Nominal/OHE(One Hot Encoding)\n",
    "2.Ordinal and Label Encoding\n",
    "3.Target guided Ordinal Encoding\n",
    "\n",
    "\"\"\""
   ]
  },
  {
   "cell_type": "code",
   "execution_count": null,
   "id": "7aef979e-83ff-4bfc-9e38-9f7cb9157c7b",
   "metadata": {},
   "outputs": [],
   "source": []
  }
 ],
 "metadata": {
  "kernelspec": {
   "display_name": "Python 3 (ipykernel)",
   "language": "python",
   "name": "python3"
  },
  "language_info": {
   "codemirror_mode": {
    "name": "ipython",
    "version": 3
   },
   "file_extension": ".py",
   "mimetype": "text/x-python",
   "name": "python",
   "nbconvert_exporter": "python",
   "pygments_lexer": "ipython3",
   "version": "3.10.8"
  }
 },
 "nbformat": 4,
 "nbformat_minor": 5
}
