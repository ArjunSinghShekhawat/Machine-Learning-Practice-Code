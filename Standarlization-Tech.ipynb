{
 "cells": [
  {
   "cell_type": "code",
   "execution_count": 1,
   "id": "57b1e97a-2f38-4d2b-ba1b-35cfac709236",
   "metadata": {},
   "outputs": [],
   "source": [
    "#Standardization Technique"
   ]
  },
  {
   "cell_type": "code",
   "execution_count": 3,
   "id": "e46c4ef2-6b11-4ad1-944f-2d27590d016c",
   "metadata": {},
   "outputs": [],
   "source": [
    "import pandas as pd"
   ]
  },
  {
   "cell_type": "code",
   "execution_count": 4,
   "id": "878a697e-d992-44c9-9f19-ae6324974e52",
   "metadata": {},
   "outputs": [],
   "source": [
    "import numpy as np"
   ]
  },
  {
   "cell_type": "code",
   "execution_count": 5,
   "id": "0b7e0d7d-5a85-4470-8893-a5e86711d589",
   "metadata": {},
   "outputs": [],
   "source": [
    "import seaborn as sns"
   ]
  },
  {
   "cell_type": "code",
   "execution_count": 6,
   "id": "dc9111c1-beff-4571-9b31-2004941d43da",
   "metadata": {},
   "outputs": [],
   "source": [
    "df = sns.load_dataset('tips')"
   ]
  },
  {
   "cell_type": "code",
   "execution_count": 7,
   "id": "ef389382-3f16-4607-80c8-59f4ccfc362d",
   "metadata": {},
   "outputs": [
    {
     "data": {
      "text/html": [
       "<div>\n",
       "<style scoped>\n",
       "    .dataframe tbody tr th:only-of-type {\n",
       "        vertical-align: middle;\n",
       "    }\n",
       "\n",
       "    .dataframe tbody tr th {\n",
       "        vertical-align: top;\n",
       "    }\n",
       "\n",
       "    .dataframe thead th {\n",
       "        text-align: right;\n",
       "    }\n",
       "</style>\n",
       "<table border=\"1\" class=\"dataframe\">\n",
       "  <thead>\n",
       "    <tr style=\"text-align: right;\">\n",
       "      <th></th>\n",
       "      <th>total_bill</th>\n",
       "      <th>tip</th>\n",
       "      <th>sex</th>\n",
       "      <th>smoker</th>\n",
       "      <th>day</th>\n",
       "      <th>time</th>\n",
       "      <th>size</th>\n",
       "    </tr>\n",
       "  </thead>\n",
       "  <tbody>\n",
       "    <tr>\n",
       "      <th>0</th>\n",
       "      <td>16.99</td>\n",
       "      <td>1.01</td>\n",
       "      <td>Female</td>\n",
       "      <td>No</td>\n",
       "      <td>Sun</td>\n",
       "      <td>Dinner</td>\n",
       "      <td>2</td>\n",
       "    </tr>\n",
       "    <tr>\n",
       "      <th>1</th>\n",
       "      <td>10.34</td>\n",
       "      <td>1.66</td>\n",
       "      <td>Male</td>\n",
       "      <td>No</td>\n",
       "      <td>Sun</td>\n",
       "      <td>Dinner</td>\n",
       "      <td>3</td>\n",
       "    </tr>\n",
       "    <tr>\n",
       "      <th>2</th>\n",
       "      <td>21.01</td>\n",
       "      <td>3.50</td>\n",
       "      <td>Male</td>\n",
       "      <td>No</td>\n",
       "      <td>Sun</td>\n",
       "      <td>Dinner</td>\n",
       "      <td>3</td>\n",
       "    </tr>\n",
       "    <tr>\n",
       "      <th>3</th>\n",
       "      <td>23.68</td>\n",
       "      <td>3.31</td>\n",
       "      <td>Male</td>\n",
       "      <td>No</td>\n",
       "      <td>Sun</td>\n",
       "      <td>Dinner</td>\n",
       "      <td>2</td>\n",
       "    </tr>\n",
       "    <tr>\n",
       "      <th>4</th>\n",
       "      <td>24.59</td>\n",
       "      <td>3.61</td>\n",
       "      <td>Female</td>\n",
       "      <td>No</td>\n",
       "      <td>Sun</td>\n",
       "      <td>Dinner</td>\n",
       "      <td>4</td>\n",
       "    </tr>\n",
       "  </tbody>\n",
       "</table>\n",
       "</div>"
      ],
      "text/plain": [
       "   total_bill   tip     sex smoker  day    time  size\n",
       "0       16.99  1.01  Female     No  Sun  Dinner     2\n",
       "1       10.34  1.66    Male     No  Sun  Dinner     3\n",
       "2       21.01  3.50    Male     No  Sun  Dinner     3\n",
       "3       23.68  3.31    Male     No  Sun  Dinner     2\n",
       "4       24.59  3.61  Female     No  Sun  Dinner     4"
      ]
     },
     "execution_count": 7,
     "metadata": {},
     "output_type": "execute_result"
    }
   ],
   "source": [
    "df.head()"
   ]
  },
  {
   "cell_type": "code",
   "execution_count": 8,
   "id": "63187de7-effc-417a-92b9-9c56cf2c7359",
   "metadata": {},
   "outputs": [
    {
     "data": {
      "text/plain": [
       "0      16.99\n",
       "1      10.34\n",
       "2      21.01\n",
       "3      23.68\n",
       "4      24.59\n",
       "       ...  \n",
       "239    29.03\n",
       "240    27.18\n",
       "241    22.67\n",
       "242    17.82\n",
       "243    18.78\n",
       "Name: total_bill, Length: 244, dtype: float64"
      ]
     },
     "execution_count": 8,
     "metadata": {},
     "output_type": "execute_result"
    }
   ],
   "source": [
    "df['total_bill']"
   ]
  },
  {
   "cell_type": "code",
   "execution_count": 9,
   "id": "8c13b78a-6807-4bd2-9807-fa243f32a403",
   "metadata": {},
   "outputs": [
    {
     "data": {
      "text/plain": [
       "<AxesSubplot: xlabel='total_bill', ylabel='Count'>"
      ]
     },
     "execution_count": 9,
     "metadata": {},
     "output_type": "execute_result"
    },
    {
     "data": {
      "image/png": "[encoded data removed]",
      "text/plain": [
       "<Figure size 640x480 with 1 Axes>"
      ]
     },
     "metadata": {},
     "output_type": "display_data"
    }
   ],
   "source": [
    "sns.histplot(df['total_bill'])"
   ]
  },
  {
   "cell_type": "code",
   "execution_count": 10,
   "id": "1ecb93f9-6bd2-4e0c-b672-4d6562170b49",
   "metadata": {},
   "outputs": [],
   "source": [
    "mean = df['total_bill'].mean()"
   ]
  },
  {
   "cell_type": "code",
   "execution_count": 11,
   "id": "8407b1c4-3b18-4fb1-9e2b-9c07dba03a61",
   "metadata": {},
   "outputs": [
    {
     "data": {
      "text/plain": [
       "19.78594262295082"
      ]
     },
     "execution_count": 11,
     "metadata": {},
     "output_type": "execute_result"
    }
   ],
   "source": [
    "mean"
   ]
  },
  {
   "cell_type": "code",
   "execution_count": 12,
   "id": "8f018503-b523-4e85-89ef-ad40ad3e9705",
   "metadata": {},
   "outputs": [],
   "source": [
    "std = df['total_bill'].std()"
   ]
  },
  {
   "cell_type": "code",
   "execution_count": 13,
   "id": "a704e160-fd35-44bc-a565-cbc6927a4715",
   "metadata": {},
   "outputs": [
    {
     "data": {
      "text/plain": [
       "8.902411954856856"
      ]
     },
     "execution_count": 13,
     "metadata": {},
     "output_type": "execute_result"
    }
   ],
   "source": [
    "std"
   ]
  },
  {
   "cell_type": "code",
   "execution_count": 14,
   "id": "fd0b834e-6ab0-4b8f-948a-b36957b7e37e",
   "metadata": {},
   "outputs": [
    {
     "name": "stdout",
     "output_type": "stream",
     "text": [
      "[-0.31406574275923616, -1.0610543154877743, 0.13749727413831675, 0.4374159943165417, 0.5396354832162364, 0.6182658592929247, -1.237411016116918, 0.7968691420956879, -0.5331075046871533, -0.562313072944209, -1.0689173530954432, 1.7381870728423272, -0.49042244338837965, -0.15231182625862016, -0.5566966175101598, 0.20152486608647682, -1.0621776065745843, -0.3926961188359243, -0.31631232493285577, 0.09705879501316246, -0.2095996716859214, 0.05662031588800856, -0.45110725535003554, 2.205476164955218, 0.0038256348079465756, -0.22195587364082986, -0.7206971161843952, -0.7970809100874638, 0.2150043591281949, -0.015270313667820763, -1.149794311345751, -0.16129815495309863, -0.5308609225135336, 0.10155195936040208, -0.2253257469012591, 0.48010105561531524, -0.3904495366623047, -0.320805489280095, -0.12310625800156434, 1.2899939292052043, -0.4207783960061701, -0.26127106167917374, -0.6566695242362348, -1.1351915272172233, 1.1922676046527487, -0.16803790147395786, 0.27453878672911614, 1.4169258220147152, 0.9844587535929301, -0.19612017864420367, -0.8139302763896114, -1.0666707709218237, 1.6876389739358852, -1.1059859589601677, 0.6485947186367901, -0.03324297105677809, 2.047092121715031, 0.7440744610156259, -0.9599581176748895, 3.1995887767819196, 0.05662031588800856, -0.6712723083647625, -0.9846705215847058, -0.16803790147395786, -0.24666827755064605, 0.03303120306500199, -0.374723461446967, -1.8776869355985224, 0.04988056936714971, -0.5364773779475828, -0.8723414129037226, -0.30507941406475725, 0.7946225599220683, 0.617142568206115, -0.5679295283782579, -1.0419583670120072, -0.2095996716859214, 0.8328144568736026, 0.3340732143300374, -0.2803670101549411, -0.03885942649082694, -0.3511343486239604, -1.0913831748316398, 1.4483779724453907, -0.42751814252702897, 1.6898855561095045, -0.7588890131359296, -0.16916119256076748, 0.5531149762579546, 0.15434664044046406, 1.0316369792389428, 0.3037443549861716, -1.5766449243334872, -0.38932624557549467, 0.33294992324322736, 2.2897229964659553, 0.8418007855680815, -0.8712181218169128, 0.13749727413831675, -0.8229166050840898, -0.9476019157199813, -0.4949156077356189, 2.7536422153184152, 0.2958813173785031, 0.12738765435702828, -0.49716218990923866, 0.07908613762420512, 0.6092795305984462, -0.17365435690800712, -0.615107754024271, -0.6499297777153757, -1.4081512613120124, 2.0538318682358905, 0.46774485366040713, 0.6654440849389378, -0.27812042798132147, 1.1394729235726868, -1.0262322917966695, -0.8262864783445195, 0.48234763778893486, -0.9094100187684471, -0.715080660750346, -0.6207242094583202, -0.4308880157874586, -0.8206700229104702, 1.1248701394441591, -1.2654932932871639, -0.5915186412012645, -0.9442320424595517, 0.34081296085089624, -0.07929790561598123, 0.054373733714388944, -0.9678211552825583, -0.8453824268202866, -0.1714077747343871, -1.2666165843739736, -1.0621776065745843, -0.6330804114132282, -0.42527156035340935, -0.7442862290074017, -0.26014777059236416, 1.6303511285085832, 2.4042986873205576, 0.8159650905714553, -0.3769700436205866, -1.284589241762931, -0.1287227134356136, -0.8891907792058701, -1.123958616349125, -1.3789456930549568, -0.6420667401077069, -0.7476561022678311, -0.28373688341537034, 0.5351423188689972, -0.0017908206261026652, 1.1304865948782084, 3.188355865913821, 0.5856904177754396, -0.7184505340107755, -0.37023029709972777, 0.19253853739199836, -0.8004507833478933, -0.4016824475304028, -0.6712723083647625, -0.25565460624512454, 0.5317724456085676, 0.10941499696807094, 1.3394187370248372, -1.0329720383175285, -1.028478873970289, 3.4849047128316166, -0.4466140910027961, -1.4081512613120124, 1.3551448122401748, -0.33316169123500305, 1.4730903763552068, -0.212969544946351, -0.5960118055485037, -1.144177855911702, 1.6674197343733084, 1.6696663165469274, 0.39810080627819744, 2.8715877794334483, 0.3801281488892405, 2.332408057764728, 0.10155195936040208, 0.12514107218340825, 1.1990073511736081, -0.1837639766892956, 0.37226511128157164, -0.4600935840445142, 0.002702343721136568, 0.9721025516380221, -0.4836826968675206, -0.3601206773184393, -1.3733292376209079, -1.0610543154877743, 2.6199705759880456, -0.762258886396359, -0.7049710409690576, -0.12085967582794473, -0.7914644546534146, -0.762258886396359, -0.3803399168810162, 0.08357930197144475, -0.3724768792733474, 0.7642937005782029, 2.127969079965339, 0.5036901684383218, -0.789217872479795, 1.1540757077012145, 0.6856633245015148, 3.206328523302778, -0.7319300270524935, 0.9417736922941566, -0.7734917972644573, 0.9395271101205366, -0.9206429296365454, -1.3531099980583308, 1.1630620363956934, -0.8566153376883849, -0.715080660750346, -1.258753546766305, -0.42751814252702897, -0.715080660750346, -0.39494270100954393, -1.08913659265802, 0.07459297327696589, -0.7308067359656838, 0.2621825847742081, 0.4744846001812664, -0.4600935840445142, -0.9183963474629258, -1.0127527987549516, -0.47806624143347154, -1.0913831748316398, -0.8071905298687523, 1.465227338747538, 1.8022146647904878, 1.038376725759802, 0.8305678746999829, 0.3239635945487489, -0.22083258255401986, -0.11299663822027588]\n"
     ]
    }
   ],
   "source": [
    "normalize_list = []\n",
    "for i in df['total_bill']:\n",
    "    z_score = (i-mean)/std\n",
    "    normalize_list.append(z_score)\n",
    "\n",
    "print(normalize_list)\n",
    "    "
   ]
  },
  {
   "cell_type": "code",
   "execution_count": 15,
   "id": "f6d6f5cc-1304-47a1-930e-7999c212dfe9",
   "metadata": {},
   "outputs": [
    {
     "data": {
      "text/plain": [
       "<AxesSubplot: ylabel='Count'>"
      ]
     },
     "execution_count": 15,
     "metadata": {},
     "output_type": "execute_result"
    },
    {
     "data": {
      "image/png": "[encoded data removed]",
      "text/plain": [
       "<Figure size 640x480 with 1 Axes>"
      ]
     },
     "metadata": {},
     "output_type": "display_data"
    }
   ],
   "source": [
    "sns.histplot(normalize_list)"
   ]
  },
  {
   "cell_type": "code",
   "execution_count": 16,
   "id": "499261eb-5a25-4256-b3d8-7d82d21ba20d",
   "metadata": {},
   "outputs": [],
   "source": [
    "from sklearn.preprocessing import StandardScaler"
   ]
  },
  {
   "cell_type": "code",
   "execution_count": 18,
   "id": "a21df763-2977-4d33-a74c-d43ac9e895a5",
   "metadata": {},
   "outputs": [],
   "source": [
    "scaler = StandardScaler()"
   ]
  },
  {
   "cell_type": "code",
   "execution_count": 19,
   "id": "c0b0bba0-9811-40bd-8290-c6dd0282645c",
   "metadata": {},
   "outputs": [
    {
     "data": {
      "text/html": [
       "<style>#sk-container-id-1 {color: black;background-color: white;}#sk-container-id-1 pre{padding: 0;}#sk-container-id-1 div.sk-toggleable {background-color: white;}#sk-container-id-1 label.sk-toggleable__label {cursor: pointer;display: block;width: 100%;margin-bottom: 0;padding: 0.3em;box-sizing: border-box;text-align: center;}#sk-container-id-1 label.sk-toggleable__label-arrow:before {content: \"▸\";float: left;margin-right: 0.25em;color: #696969;}#sk-container-id-1 label.sk-toggleable__label-arrow:hover:before {color: black;}#sk-container-id-1 div.sk-estimator:hover label.sk-toggleable__label-arrow:before {color: black;}#sk-container-id-1 div.sk-toggleable__content {max-height: 0;max-width: 0;overflow: hidden;text-align: left;background-color: #f0f8ff;}#sk-container-id-1 div.sk-toggleable__content pre {margin: 0.2em;color: black;border-radius: 0.25em;background-color: #f0f8ff;}#sk-container-id-1 input.sk-toggleable__control:checked~div.sk-toggleable__content {max-height: 200px;max-width: 100%;overflow: auto;}#sk-container-id-1 input.sk-toggleable__control:checked~label.sk-toggleable__label-arrow:before {content: \"▾\";}#sk-container-id-1 div.sk-estimator input.sk-toggleable__control:checked~label.sk-toggleable__label {background-color: #d4ebff;}#sk-container-id-1 div.sk-label input.sk-toggleable__control:checked~label.sk-toggleable__label {background-color: #d4ebff;}#sk-container-id-1 input.sk-hidden--visually {border: 0;clip: rect(1px 1px 1px 1px);clip: rect(1px, 1px, 1px, 1px);height: 1px;margin: -1px;overflow: hidden;padding: 0;position: absolute;width: 1px;}#sk-container-id-1 div.sk-estimator {font-family: monospace;background-color: #f0f8ff;border: 1px dotted black;border-radius: 0.25em;box-sizing: border-box;margin-bottom: 0.5em;}#sk-container-id-1 div.sk-estimator:hover {background-color: #d4ebff;}#sk-container-id-1 div.sk-parallel-item::after {content: \"\";width: 100%;border-bottom: 1px solid gray;flex-grow: 1;}#sk-container-id-1 div.sk-label:hover label.sk-toggleable__label {background-color: #d4ebff;}#sk-container-id-1 div.sk-serial::before {content: \"\";position: absolute;border-left: 1px solid gray;box-sizing: border-box;top: 0;bottom: 0;left: 50%;z-index: 0;}#sk-container-id-1 div.sk-serial {display: flex;flex-direction: column;align-items: center;background-color: white;padding-right: 0.2em;padding-left: 0.2em;position: relative;}#sk-container-id-1 div.sk-item {position: relative;z-index: 1;}#sk-container-id-1 div.sk-parallel {display: flex;align-items: stretch;justify-content: center;background-color: white;position: relative;}#sk-container-id-1 div.sk-item::before, #sk-container-id-1 div.sk-parallel-item::before {content: \"\";position: absolute;border-left: 1px solid gray;box-sizing: border-box;top: 0;bottom: 0;left: 50%;z-index: -1;}#sk-container-id-1 div.sk-parallel-item {display: flex;flex-direction: column;z-index: 1;position: relative;background-color: white;}#sk-container-id-1 div.sk-parallel-item:first-child::after {align-self: flex-end;width: 50%;}#sk-container-id-1 div.sk-parallel-item:last-child::after {align-self: flex-start;width: 50%;}#sk-container-id-1 div.sk-parallel-item:only-child::after {width: 0;}#sk-container-id-1 div.sk-dashed-wrapped {border: 1px dashed gray;margin: 0 0.4em 0.5em 0.4em;box-sizing: border-box;padding-bottom: 0.4em;background-color: white;}#sk-container-id-1 div.sk-label label {font-family: monospace;font-weight: bold;display: inline-block;line-height: 1.2em;}#sk-container-id-1 div.sk-label-container {text-align: center;}#sk-container-id-1 div.sk-container {/* jupyter's `normalize.less` sets `[hidden] { display: none; }` but bootstrap.min.css set `[hidden] { display: none !important; }` so we also need the `!important` here to be able to override the default hidden behavior on the sphinx rendered scikit-learn.org. See: https://github.com/scikit-learn/scikit-learn/issues/21755 */display: inline-block !important;position: relative;}#sk-container-id-1 div.sk-text-repr-fallback {display: none;}</style><div id=\"sk-container-id-1\" class=\"sk-top-container\"><div class=\"sk-text-repr-fallback\"><pre>StandardScaler()</pre><b>In a Jupyter environment, please rerun this cell to show the HTML representation or trust the notebook. <br />On GitHub, the HTML representation is unable to render, please try loading this page with nbviewer.org.</b></div><div class=\"sk-container\" hidden><div class=\"sk-item\"><div class=\"sk-estimator sk-toggleable\"><input class=\"sk-toggleable__control sk-hidden--visually\" id=\"sk-estimator-id-1\" type=\"checkbox\" checked><label for=\"sk-estimator-id-1\" class=\"sk-toggleable__label sk-toggleable__label-arrow\">StandardScaler</label><div class=\"sk-toggleable__content\"><pre>StandardScaler()</pre></div></div></div></div></div>"
      ],
      "text/plain": [
       "StandardScaler()"
      ]
     },
     "execution_count": 19,
     "metadata": {},
     "output_type": "execute_result"
    }
   ],
   "source": [
    "scaler.fit(df[['total_bill']])"
   ]
  },
  {
   "cell_type": "code",
   "execution_count": 22,
   "id": "46469e73-5565-4bb7-b2ed-9bd58e3db64a",
   "metadata": {},
   "outputs": [],
   "source": [
    "df = pd.DataFrame(scaler.transform(df[['total_bill']]),columns=['total_bill'])"
   ]
  },
  {
   "cell_type": "code",
   "execution_count": 23,
   "id": "c9044d72-a58c-41d8-83c2-5157b8f69e01",
   "metadata": {},
   "outputs": [
    {
     "data": {
      "text/plain": [
       "<AxesSubplot: xlabel='total_bill', ylabel='Count'>"
      ]
     },
     "execution_count": 23,
     "metadata": {},
     "output_type": "execute_result"
    },
    {
     "data": {
      "image/png": "[encoded data removed]",
      "text/plain": [
       "<Figure size 640x480 with 1 Axes>"
      ]
     },
     "metadata": {},
     "output_type": "display_data"
    }
   ],
   "source": [
    "sns.histplot(df['total_bill'])"
   ]
  },
  {
   "cell_type": "code",
   "execution_count": null,
   "id": "87a2309b-5a56-4029-86c6-a9e064a3124f",
   "metadata": {},
   "outputs": [],
   "source": []
  }
 ],
 "metadata": {
  "kernelspec": {
   "display_name": "Python 3 (ipykernel)",
   "language": "python",
   "name": "python3"
  },
  "language_info": {
   "codemirror_mode": {
    "name": "ipython",
    "version": 3
   },
   "file_extension": ".py",
   "mimetype": "text/x-python",
   "name": "python",
   "nbconvert_exporter": "python",
   "pygments_lexer": "ipython3",
   "version": "3.10.8"
  }
 },
 "nbformat": 4,
 "nbformat_minor": 5
}
