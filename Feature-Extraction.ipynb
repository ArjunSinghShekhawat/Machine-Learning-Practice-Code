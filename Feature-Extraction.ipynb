{
 "cells": [
  {
   "cell_type": "code",
   "execution_count": 1,
   "id": "8144fa7c-21dc-41b0-9f12-c0033dc7ffcb",
   "metadata": {},
   "outputs": [],
   "source": [
    "#Feature Extraction"
   ]
  },
  {
   "cell_type": "code",
   "execution_count": 3,
   "id": "e687dfe0-70cc-488b-b6a1-dae2fcd81b6e",
   "metadata": {},
   "outputs": [
    {
     "data": {
      "text/plain": [
       "'\\nFeature Extraction - Feature Extraction is a process of selecting and extracting the most important feature from rwo data.\\nmachine learning - 1000 feature\\n                    |\\n            Most important feature\\n                    |\\n             Machine Learning\\n\\n1.Feature Scaling-:\\n      Age weight Height BMI\\n      21   45      170   -\\n      30   67      160   -\\n      |    |        |    |\\n      \\n    Normalize and standarlize\\n    Z-score = mean = 0 std = 1\\n    unit vector\\n    \\n2.Feature selection -we just pick the most important feature.\\n       500 feature - 10 top feature\\n\\n3.PCA(principal component analysis) -:\\n                                      Unsupervised Machine Learning\\n \\n'"
      ]
     },
     "execution_count": 3,
     "metadata": {},
     "output_type": "execute_result"
    }
   ],
   "source": [
    "\"\"\"\n",
    "Feature Extraction - Feature Extraction is a process of selecting and extracting the most important feature from rwo data.\n",
    "machine learning - 1000 feature\n",
    "                    |\n",
    "            Most important feature\n",
    "                    |\n",
    "             Machine Learning\n",
    "\n",
    "1.Feature Scaling-:\n",
    "      Age weight Height BMI\n",
    "      21   45      170   -\n",
    "      30   67      160   -\n",
    "      |    |        |    |\n",
    "      \n",
    "    Normalize and standarlize\n",
    "    Z-score = mean = 0 std = 1\n",
    "    unit vector\n",
    "    \n",
    "2.Feature selection -we just pick the most important feature.\n",
    "       500 feature - 10 top feature\n",
    "\n",
    "3.PCA(principal component analysis) -:\n",
    "                                      Unsupervised Machine Learning\n",
    " \n",
    "\"\"\""
   ]
  },
  {
   "cell_type": "code",
   "execution_count": null,
   "id": "79eac98d-3f43-48f8-8e09-4b591d2203a4",
   "metadata": {},
   "outputs": [],
   "source": []
  }
 ],
 "metadata": {
  "kernelspec": {
   "display_name": "Python 3 (ipykernel)",
   "language": "python",
   "name": "python3"
  },
  "language_info": {
   "codemirror_mode": {
    "name": "ipython",
    "version": 3
   },
   "file_extension": ".py",
   "mimetype": "text/x-python",
   "name": "python",
   "nbconvert_exporter": "python",
   "pygments_lexer": "ipython3",
   "version": "3.10.8"
  }
 },
 "nbformat": 4,
 "nbformat_minor": 5
}
