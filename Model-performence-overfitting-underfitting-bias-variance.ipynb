{
 "cells": [
  {
   "cell_type": "code",
   "execution_count": 1,
   "id": "583b8538-dce8-4e1a-891e-8632bbf085d3",
   "metadata": {},
   "outputs": [],
   "source": [
    "#Model Performence , Overfitting , Underfitting and bias or variance "
   ]
  },
  {
   "cell_type": "code",
   "execution_count": null,
   "id": "4cc1e686-5e8a-4470-a7b5-c17321c4fe7d",
   "metadata": {},
   "outputs": [],
   "source": [
    "\"\"\"\n",
    "Model Performence - Model Performence is define the accuracy of this model and always model accuracy will be high for best model performence.\n",
    "\n",
    "Overfitting -     Train Data Accuracy - 95%\n",
    "                  Test Data Accuracy  - 60%\n",
    "                  In this condition bias is low and variance will be high this condition is called overfitting.\n",
    "              \n",
    "Underfitting -    Train Data Accuracy - 50%\n",
    "                  Test Data Accuracy  - 40%\n",
    "                  In this condition bias is high and variance will be high this condition is called underfitting.\n",
    "\n",
    "Generalized model-Train Data Accuracy - High\n",
    "                  Test Data Accuracy  - High\n",
    "                  In this condition bias and variance both are low this condition is called generalized model.\n",
    "                    \n",
    "\"\"\""
   ]
  }
 ],
 "metadata": {
  "kernelspec": {
   "display_name": "Python 3 (ipykernel)",
   "language": "python",
   "name": "python3"
  },
  "language_info": {
   "codemirror_mode": {
    "name": "ipython",
    "version": 3
   },
   "file_extension": ".py",
   "mimetype": "text/x-python",
   "name": "python",
   "nbconvert_exporter": "python",
   "pygments_lexer": "ipython3",
   "version": "3.10.8"
  }
 },
 "nbformat": 4,
 "nbformat_minor": 5
}
